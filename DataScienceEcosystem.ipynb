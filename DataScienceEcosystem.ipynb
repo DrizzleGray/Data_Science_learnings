{
 "cells": [
  {
   "cell_type": "markdown",
   "id": "3971665d-1a17-4138-a182-53fe4352de76",
   "metadata": {},
   "source": [
    "# Data Science and Tools Ecosystem"
   ]
  },
  {
   "cell_type": "markdown",
   "id": "52c63dfc-4b80-425c-8be0-500dd8c44286",
   "metadata": {},
   "source": [
    "In this notebook, Data Science Tools and Ecosystem are summarized"
   ]
  },
  {
   "cell_type": "markdown",
   "id": "add828cb-f890-4b7b-8f8f-d1367a94cf85",
   "metadata": {},
   "source": [
    "**Objectives**\n",
    "* Structured Query Language\n",
    "* Python\n",
    "* R\n",
    "* Apache Spark"
   ]
  },
  {
   "cell_type": "markdown",
   "id": "90312af2-2644-43a4-b130-11085c255042",
   "metadata": {},
   "source": [
    "Some of the popular languages that Data Scientists use are:\n",
    "1. Structured Query Language\n",
    "2. R programming Language\n",
    "3. Python programming Language\n",
    "4. Julia\n",
    "5. Java"
   ]
  },
  {
   "cell_type": "markdown",
   "id": "25c369da-ae74-4cbf-a59f-4a70f4619aee",
   "metadata": {},
   "source": [
    "Some of the commonly used libraries used by Data Scientists include:\n",
    "1. Tidyverse\n",
    "2. Pytorch\n",
    "3. Seaborn\n",
    "4. TensorFlow\n",
    "5. Sickit-learn"
   ]
  },
  {
   "cell_type": "markdown",
   "id": "10e1f5c8-fd4f-43df-8ffe-b216df824ec9",
   "metadata": {},
   "source": [
    "| Data Science Tools |\n",
    "|:-------------|\n",
    "| Python | \n",
    "| R |\n",
    "| Hadoop |\n",
    "| SQL |"
   ]
  },
  {
   "cell_type": "markdown",
   "id": "e365d1a1-81c4-4d94-beda-898f6f5d200d",
   "metadata": {},
   "source": [
    "### Below are a few examples of evaluating arithmetic expressions in Python"
   ]
  },
  {
   "cell_type": "code",
   "execution_count": 1,
   "id": "e3b9efd4-ccb3-4484-aef1-9be6139c7924",
   "metadata": {
    "tags": []
   },
   "outputs": [
    {
     "data": {
      "text/plain": [
       "17"
      ]
     },
     "execution_count": 1,
     "metadata": {},
     "output_type": "execute_result"
    }
   ],
   "source": [
    "#This a simple arithmetic expression to mutiply then add integers\n",
    "(3*4)+5"
   ]
  },
  {
   "cell_type": "code",
   "execution_count": 2,
   "id": "7d28f535-36f1-400f-bc60-6b1336a8a241",
   "metadata": {
    "tags": []
   },
   "outputs": [
    {
     "data": {
      "text/plain": [
       "3.3333333333333335"
      ]
     },
     "execution_count": 2,
     "metadata": {},
     "output_type": "execute_result"
    }
   ],
   "source": [
    "#This will convert 200 minutes to hours by diving by 60\n",
    "200/60"
   ]
  },
  {
   "cell_type": "markdown",
   "id": "f2d6828b-6ea4-4c90-804d-ad939c14124e",
   "metadata": {},
   "source": [
    "## Author\n",
    "David Otu"
   ]
  }
 ],
 "metadata": {
  "kernelspec": {
   "display_name": "Python",
   "language": "python",
   "name": "conda-env-python-py"
  },
  "language_info": {
   "codemirror_mode": {
    "name": "ipython",
    "version": 3
   },
   "file_extension": ".py",
   "mimetype": "text/x-python",
   "name": "python",
   "nbconvert_exporter": "python",
   "pygments_lexer": "ipython3",
   "version": "3.7.12"
  }
 },
 "nbformat": 4,
 "nbformat_minor": 5
}
